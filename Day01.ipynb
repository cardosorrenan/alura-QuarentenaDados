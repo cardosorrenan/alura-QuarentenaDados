{
  "nbformat": 4,
  "nbformat_minor": 0,
  "metadata": {
    "colab": {
      "name": "Desafio01",
      "provenance": [],
      "collapsed_sections": [],
      "include_colab_link": true
    },
    "kernelspec": {
      "name": "python3",
      "display_name": "Python 3"
    }
  },
  "cells": [
    {
      "cell_type": "markdown",
      "metadata": {
        "id": "view-in-github",
        "colab_type": "text"
      },
      "source": [
        "<a href=\"https://colab.research.google.com/github/cardosorrenan/alura-QuarentenaDados/blob/master/Day01.ipynb\" target=\"_parent\"><img src=\"https://colab.research.google.com/assets/colab-badge.svg\" alt=\"Open In Colab\"/></a>"
      ]
    },
    {
      "cell_type": "code",
      "metadata": {
        "id": "VcYlbqDn4x84",
        "colab_type": "code",
        "colab": {}
      },
      "source": [
        "import pandas as pd\n"
      ],
      "execution_count": 0,
      "outputs": []
    },
    {
      "cell_type": "markdown",
      "metadata": {
        "id": "Alc-LJBYCB4N",
        "colab_type": "text"
      },
      "source": [
        "Movies fetched from api: 9742 rows"
      ]
    },
    {
      "cell_type": "code",
      "metadata": {
        "id": "UWD1xFJOCnO2",
        "colab_type": "code",
        "colab": {}
      },
      "source": [
        "movies = pd.read_csv(\"https://raw.githubusercontent.com/alura-cursos/introducao-a-data-science/master/aula0/ml-latest-small/movies.csv\")\n",
        "movies.columns = [\"movie_id\", \"title\", \"genres\"]"
      ],
      "execution_count": 0,
      "outputs": []
    },
    {
      "cell_type": "markdown",
      "metadata": {
        "id": "397Kv6J1CrUK",
        "colab_type": "text"
      },
      "source": [
        "Reviews fetched from api: 100836 rows"
      ]
    },
    {
      "cell_type": "code",
      "metadata": {
        "id": "5R4r_clhB74y",
        "colab_type": "code",
        "colab": {}
      },
      "source": [
        "reviews = pd.read_csv(\"https://github.com/alura-cursos/introducao-a-data-science/blob/master/aula0/ml-latest-small/ratings.csv?raw=true\")\n",
        "reviews.columns = [\"user_id\", \"movie_id\", \"rating\", \"timestamp\"]"
      ],
      "execution_count": 0,
      "outputs": []
    },
    {
      "cell_type": "markdown",
      "metadata": {
        "id": "FooSacyKHWub",
        "colab_type": "text"
      },
      "source": [
        "Average movie reviews: 9724 rows"
      ]
    },
    {
      "cell_type": "code",
      "metadata": {
        "id": "IF0psJx7B5ml",
        "colab_type": "code",
        "colab": {}
      },
      "source": [
        "reviews_avg = reviews.groupby('movie_id')['rating'].mean()"
      ],
      "execution_count": 0,
      "outputs": []
    },
    {
      "cell_type": "markdown",
      "metadata": {
        "id": "R1bfxq4vDHtk",
        "colab_type": "text"
      },
      "source": [
        "Average and film details: 9724 rows"
      ]
    },
    {
      "cell_type": "code",
      "metadata": {
        "id": "EyGp5XdSDUMc",
        "colab_type": "code",
        "colab": {}
      },
      "source": [
        "movies_with_avgs = movies.join(reviews_avg, on=\"movie_id\")"
      ],
      "execution_count": 0,
      "outputs": []
    },
    {
      "cell_type": "markdown",
      "metadata": {
        "id": "rEOUC9KcGoRq",
        "colab_type": "text"
      },
      "source": [
        "## **Task 1**: Find all the movies without rating"
      ]
    },
    {
      "cell_type": "code",
      "metadata": {
        "id": "biYPkGQNDHmt",
        "colab_type": "code",
        "colab": {
          "base_uri": "https://localhost:8080/",
          "height": 221
        },
        "outputId": "ff085c47-8a54-4933-cb12-7fa695614194"
      },
      "source": [
        "movies_without_avgs = movies_with_avgs[movies_with_avgs.isna().any(axis=1)]\n",
        "print(movies_without_avgs.shape)\n",
        "movies_without_avgs.head()"
      ],
      "execution_count": 35,
      "outputs": [
        {
          "output_type": "stream",
          "text": [
            "(18, 4)\n"
          ],
          "name": "stdout"
        },
        {
          "output_type": "execute_result",
          "data": {
            "text/html": [
              "<div>\n",
              "<style scoped>\n",
              "    .dataframe tbody tr th:only-of-type {\n",
              "        vertical-align: middle;\n",
              "    }\n",
              "\n",
              "    .dataframe tbody tr th {\n",
              "        vertical-align: top;\n",
              "    }\n",
              "\n",
              "    .dataframe thead th {\n",
              "        text-align: right;\n",
              "    }\n",
              "</style>\n",
              "<table border=\"1\" class=\"dataframe\">\n",
              "  <thead>\n",
              "    <tr style=\"text-align: right;\">\n",
              "      <th></th>\n",
              "      <th>movie_id</th>\n",
              "      <th>title</th>\n",
              "      <th>genres</th>\n",
              "      <th>rating</th>\n",
              "    </tr>\n",
              "  </thead>\n",
              "  <tbody>\n",
              "    <tr>\n",
              "      <th>816</th>\n",
              "      <td>1076</td>\n",
              "      <td>Innocents, The (1961)</td>\n",
              "      <td>Drama|Horror|Thriller</td>\n",
              "      <td>NaN</td>\n",
              "    </tr>\n",
              "    <tr>\n",
              "      <th>2211</th>\n",
              "      <td>2939</td>\n",
              "      <td>Niagara (1953)</td>\n",
              "      <td>Drama|Thriller</td>\n",
              "      <td>NaN</td>\n",
              "    </tr>\n",
              "    <tr>\n",
              "      <th>2499</th>\n",
              "      <td>3338</td>\n",
              "      <td>For All Mankind (1989)</td>\n",
              "      <td>Documentary</td>\n",
              "      <td>NaN</td>\n",
              "    </tr>\n",
              "    <tr>\n",
              "      <th>2587</th>\n",
              "      <td>3456</td>\n",
              "      <td>Color of Paradise, The (Rang-e khoda) (1999)</td>\n",
              "      <td>Drama</td>\n",
              "      <td>NaN</td>\n",
              "    </tr>\n",
              "    <tr>\n",
              "      <th>3118</th>\n",
              "      <td>4194</td>\n",
              "      <td>I Know Where I'm Going! (1945)</td>\n",
              "      <td>Drama|Romance|War</td>\n",
              "      <td>NaN</td>\n",
              "    </tr>\n",
              "  </tbody>\n",
              "</table>\n",
              "</div>"
            ],
            "text/plain": [
              "      movie_id  ... rating\n",
              "816       1076  ...    NaN\n",
              "2211      2939  ...    NaN\n",
              "2499      3338  ...    NaN\n",
              "2587      3456  ...    NaN\n",
              "3118      4194  ...    NaN\n",
              "\n",
              "[5 rows x 4 columns]"
            ]
          },
          "metadata": {
            "tags": []
          },
          "execution_count": 35
        }
      ]
    },
    {
      "cell_type": "markdown",
      "metadata": {
        "id": "EYc0zpaAGZW0",
        "colab_type": "text"
      },
      "source": [
        "## **Task 3**: Find the review amount for each movie"
      ]
    },
    {
      "cell_type": "code",
      "metadata": {
        "id": "zUNE9Vg5GY-e",
        "colab_type": "code",
        "colab": {
          "base_uri": "https://localhost:8080/",
          "height": 204
        },
        "outputId": "1870f208-4971-40ff-b8a0-27bcdc6f7a3d"
      },
      "source": [
        "count = reviews.groupby('movie_id')['movie_id'].count()\n",
        "movies_count_reviews = pd.DataFrame({'movie_id': count.index, 'count': count.values}).sort_values(\"movie_id\")\n",
        "movies_count_reviews.head()"
      ],
      "execution_count": 36,
      "outputs": [
        {
          "output_type": "execute_result",
          "data": {
            "text/html": [
              "<div>\n",
              "<style scoped>\n",
              "    .dataframe tbody tr th:only-of-type {\n",
              "        vertical-align: middle;\n",
              "    }\n",
              "\n",
              "    .dataframe tbody tr th {\n",
              "        vertical-align: top;\n",
              "    }\n",
              "\n",
              "    .dataframe thead th {\n",
              "        text-align: right;\n",
              "    }\n",
              "</style>\n",
              "<table border=\"1\" class=\"dataframe\">\n",
              "  <thead>\n",
              "    <tr style=\"text-align: right;\">\n",
              "      <th></th>\n",
              "      <th>movie_id</th>\n",
              "      <th>count</th>\n",
              "    </tr>\n",
              "  </thead>\n",
              "  <tbody>\n",
              "    <tr>\n",
              "      <th>0</th>\n",
              "      <td>1</td>\n",
              "      <td>215</td>\n",
              "    </tr>\n",
              "    <tr>\n",
              "      <th>1</th>\n",
              "      <td>2</td>\n",
              "      <td>110</td>\n",
              "    </tr>\n",
              "    <tr>\n",
              "      <th>2</th>\n",
              "      <td>3</td>\n",
              "      <td>52</td>\n",
              "    </tr>\n",
              "    <tr>\n",
              "      <th>3</th>\n",
              "      <td>4</td>\n",
              "      <td>7</td>\n",
              "    </tr>\n",
              "    <tr>\n",
              "      <th>4</th>\n",
              "      <td>5</td>\n",
              "      <td>49</td>\n",
              "    </tr>\n",
              "  </tbody>\n",
              "</table>\n",
              "</div>"
            ],
            "text/plain": [
              "   movie_id  count\n",
              "0         1    215\n",
              "1         2    110\n",
              "2         3     52\n",
              "3         4      7\n",
              "4         5     49"
            ]
          },
          "metadata": {
            "tags": []
          },
          "execution_count": 36
        }
      ]
    },
    {
      "cell_type": "markdown",
      "metadata": {
        "id": "_JJ8oTOfuMKQ",
        "colab_type": "text"
      },
      "source": [
        "## **Task 4**: Round the averages to 2 decimal digits\n"
      ]
    },
    {
      "cell_type": "code",
      "metadata": {
        "id": "uyVlCWl9uMSX",
        "colab_type": "code",
        "colab": {
          "base_uri": "https://localhost:8080/",
          "height": 204
        },
        "outputId": "d62f59a7-b941-46a5-90c9-9b9d2e90624d"
      },
      "source": [
        "movies_with_avgs = movies_with_avgs.round({'rating': 2})\n",
        "movies_with_avgs.head()"
      ],
      "execution_count": 30,
      "outputs": [
        {
          "output_type": "execute_result",
          "data": {
            "text/html": [
              "<div>\n",
              "<style scoped>\n",
              "    .dataframe tbody tr th:only-of-type {\n",
              "        vertical-align: middle;\n",
              "    }\n",
              "\n",
              "    .dataframe tbody tr th {\n",
              "        vertical-align: top;\n",
              "    }\n",
              "\n",
              "    .dataframe thead th {\n",
              "        text-align: right;\n",
              "    }\n",
              "</style>\n",
              "<table border=\"1\" class=\"dataframe\">\n",
              "  <thead>\n",
              "    <tr style=\"text-align: right;\">\n",
              "      <th></th>\n",
              "      <th>movie_id</th>\n",
              "      <th>title</th>\n",
              "      <th>genres</th>\n",
              "      <th>rating</th>\n",
              "    </tr>\n",
              "  </thead>\n",
              "  <tbody>\n",
              "    <tr>\n",
              "      <th>0</th>\n",
              "      <td>1</td>\n",
              "      <td>Toy Story (1995)</td>\n",
              "      <td>Adventure|Animation|Children|Comedy|Fantasy</td>\n",
              "      <td>3.92</td>\n",
              "    </tr>\n",
              "    <tr>\n",
              "      <th>1</th>\n",
              "      <td>2</td>\n",
              "      <td>Jumanji (1995)</td>\n",
              "      <td>Adventure|Children|Fantasy</td>\n",
              "      <td>3.43</td>\n",
              "    </tr>\n",
              "    <tr>\n",
              "      <th>2</th>\n",
              "      <td>3</td>\n",
              "      <td>Grumpier Old Men (1995)</td>\n",
              "      <td>Comedy|Romance</td>\n",
              "      <td>3.26</td>\n",
              "    </tr>\n",
              "    <tr>\n",
              "      <th>3</th>\n",
              "      <td>4</td>\n",
              "      <td>Waiting to Exhale (1995)</td>\n",
              "      <td>Comedy|Drama|Romance</td>\n",
              "      <td>2.36</td>\n",
              "    </tr>\n",
              "    <tr>\n",
              "      <th>4</th>\n",
              "      <td>5</td>\n",
              "      <td>Father of the Bride Part II (1995)</td>\n",
              "      <td>Comedy</td>\n",
              "      <td>3.07</td>\n",
              "    </tr>\n",
              "  </tbody>\n",
              "</table>\n",
              "</div>"
            ],
            "text/plain": [
              "   movie_id  ... rating\n",
              "0         1  ...   3.92\n",
              "1         2  ...   3.43\n",
              "2         3  ...   3.26\n",
              "3         4  ...   2.36\n",
              "4         5  ...   3.07\n",
              "\n",
              "[5 rows x 4 columns]"
            ]
          },
          "metadata": {
            "tags": []
          },
          "execution_count": 30
        }
      ]
    },
    {
      "cell_type": "markdown",
      "metadata": {
        "id": "Q2LH62YFvkir",
        "colab_type": "text"
      },
      "source": [
        "## **Task 5**: List all genres (unique)\n"
      ]
    },
    {
      "cell_type": "code",
      "metadata": {
        "id": "PEI5U5MqvkNG",
        "colab_type": "code",
        "outputId": "12c81444-6b2f-4bea-ffe4-003a60d5c348",
        "colab": {
          "base_uri": "https://localhost:8080/",
          "height": 357
        }
      },
      "source": [
        "movie_genres = movies['genres'].to_numpy()\n",
        "genres = '|'.join(movie_genres).split('|')\n",
        "genres_unique = list(set(genres))\n",
        "genres_unique"
      ],
      "execution_count": 29,
      "outputs": [
        {
          "output_type": "execute_result",
          "data": {
            "text/plain": [
              "['Romance',\n",
              " 'Horror',\n",
              " 'Drama',\n",
              " 'Film-Noir',\n",
              " 'IMAX',\n",
              " 'Thriller',\n",
              " 'Western',\n",
              " 'Sci-Fi',\n",
              " 'Comedy',\n",
              " 'Animation',\n",
              " 'Adventure',\n",
              " 'Fantasy',\n",
              " 'Children',\n",
              " 'War',\n",
              " 'Musical',\n",
              " 'Documentary',\n",
              " '(no genres listed)',\n",
              " 'Mystery',\n",
              " 'Crime',\n",
              " 'Action']"
            ]
          },
          "metadata": {
            "tags": []
          },
          "execution_count": 29
        }
      ]
    },
    {
      "cell_type": "markdown",
      "metadata": {
        "id": "ZwFygLDpvkht",
        "colab_type": "text"
      },
      "source": [
        ""
      ]
    }
  ]
}