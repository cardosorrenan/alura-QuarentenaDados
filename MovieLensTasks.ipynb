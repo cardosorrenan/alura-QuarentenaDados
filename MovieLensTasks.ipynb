{
  "nbformat": 4,
  "nbformat_minor": 0,
  "metadata": {
    "colab": {
      "name": "Desafio01",
      "provenance": [],
      "collapsed_sections": []
    },
    "kernelspec": {
      "name": "python3",
      "display_name": "Python 3"
    }
  },
  "cells": [
    {
      "cell_type": "code",
      "metadata": {
        "id": "VcYlbqDn4x84",
        "colab_type": "code",
        "colab": {}
      },
      "source": [
        "import pandas as pd\n"
      ],
      "execution_count": 0,
      "outputs": []
    },
    {
      "cell_type": "markdown",
      "metadata": {
        "id": "Alc-LJBYCB4N",
        "colab_type": "text"
      },
      "source": [
        "Dataframe movies: 9742 rows x  3 columns\n",
        " - Movies fetched from api"
      ]
    },
    {
      "cell_type": "code",
      "metadata": {
        "id": "UWD1xFJOCnO2",
        "colab_type": "code",
        "colab": {}
      },
      "source": [
        "movies = pd.read_csv(\"https://raw.githubusercontent.com/alura-cursos/introducao-a-data-science/master/aula0/ml-latest-small/movies.csv\")\n",
        "movies.columns = [\"movie_id\", \"title\", \"genres\"]"
      ],
      "execution_count": 0,
      "outputs": []
    },
    {
      "cell_type": "markdown",
      "metadata": {
        "id": "397Kv6J1CrUK",
        "colab_type": "text"
      },
      "source": [
        "Dataframe reviews: 100836 rows x  4 columns\n",
        " - Reviews fetched from api"
      ]
    },
    {
      "cell_type": "code",
      "metadata": {
        "id": "5R4r_clhB74y",
        "colab_type": "code",
        "colab": {}
      },
      "source": [
        "reviews = pd.read_csv(\"https://github.com/alura-cursos/introducao-a-data-science/blob/master/aula0/ml-latest-small/ratings.csv?raw=true\")\n",
        "reviews.columns = [\"user_id\", \"movie_id\", \"rating\", \"timestamp\"]"
      ],
      "execution_count": 0,
      "outputs": []
    },
    {
      "cell_type": "markdown",
      "metadata": {
        "id": "FooSacyKHWub",
        "colab_type": "text"
      },
      "source": [
        "Dataframe review_avg: 9724 rows x  2 column\n",
        "  - Average movie reviews"
      ]
    },
    {
      "cell_type": "code",
      "metadata": {
        "id": "IF0psJx7B5ml",
        "colab_type": "code",
        "colab": {}
      },
      "source": [
        "reviews_avg = reviews.groupby('movie_id')['rating'].mean()"
      ],
      "execution_count": 0,
      "outputs": []
    },
    {
      "cell_type": "markdown",
      "metadata": {
        "id": "R1bfxq4vDHtk",
        "colab_type": "text"
      },
      "source": [
        "Dataframe movies_with_avgs: 9724 rows x 4 colums\n",
        " - Average and film details"
      ]
    },
    {
      "cell_type": "code",
      "metadata": {
        "id": "EyGp5XdSDUMc",
        "colab_type": "code",
        "colab": {}
      },
      "source": [
        "movies_with_avgs = movies.join(reviews_avgs, on=\"movie_id\")"
      ],
      "execution_count": 0,
      "outputs": []
    },
    {
      "cell_type": "markdown",
      "metadata": {
        "id": "rEOUC9KcGoRq",
        "colab_type": "text"
      },
      "source": [
        "## **Task 1**: Find all the movies without rating"
      ]
    },
    {
      "cell_type": "code",
      "metadata": {
        "id": "biYPkGQNDHmt",
        "colab_type": "code",
        "colab": {}
      },
      "source": [
        "movies_without_avgs = movies_with_avgs[movies_with_avgs.isna().any(axis=1)]"
      ],
      "execution_count": 0,
      "outputs": []
    }
  ]
}