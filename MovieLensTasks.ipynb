{
  "nbformat": 4,
  "nbformat_minor": 0,
  "metadata": {
    "colab": {
      "name": "MovieLensTasks",
      "provenance": [],
      "collapsed_sections": []
    },
    "kernelspec": {
      "name": "python3",
      "display_name": "Python 3"
    }
  },
  "cells": [
    {
      "cell_type": "code",
      "metadata": {
        "id": "VcYlbqDn4x84",
        "colab_type": "code",
        "colab": {}
      },
      "source": [
        "import numpy as np\n",
        "import matplotlib.pyplot as plt\n",
        "import seaborn as sns\n",
        "import regex as re\n",
        "import pandas as pd\n",
        "pd.options.mode.chained_assignment = None"
      ],
      "execution_count": 66,
      "outputs": []
    },
    {
      "cell_type": "markdown",
      "metadata": {
        "id": "Alc-LJBYCB4N",
        "colab_type": "text"
      },
      "source": [
        "#### Movies fetched from api: 9742 rows"
      ]
    },
    {
      "cell_type": "code",
      "metadata": {
        "id": "UWD1xFJOCnO2",
        "colab_type": "code",
        "colab": {}
      },
      "source": [
        "movies = pd.read_csv(\"https://raw.githubusercontent.com/cardosorrenan/alura-QuarentenaDados/master/csv/movies.csv\")\n",
        "movies.columns = [\"movie_id\", \"title\", \"genres\"]"
      ],
      "execution_count": 67,
      "outputs": []
    },
    {
      "cell_type": "markdown",
      "metadata": {
        "id": "397Kv6J1CrUK",
        "colab_type": "text"
      },
      "source": [
        "#### Reviews fetched from api: 100836 rows"
      ]
    },
    {
      "cell_type": "code",
      "metadata": {
        "id": "5R4r_clhB74y",
        "colab_type": "code",
        "colab": {}
      },
      "source": [
        "reviews = pd.read_csv(\"https://raw.githubusercontent.com/cardosorrenan/alura-QuarentenaDados/master/csv/ratings.csv\")\n",
        "reviews.columns = [\"user_id\", \"movie_id\", \"rating\", \"timestamp\"]"
      ],
      "execution_count": 68,
      "outputs": []
    },
    {
      "cell_type": "markdown",
      "metadata": {
        "id": "FooSacyKHWub",
        "colab_type": "text"
      },
      "source": [
        "#### Average movie reviews: 9724 rows"
      ]
    },
    {
      "cell_type": "code",
      "metadata": {
        "id": "IF0psJx7B5ml",
        "colab_type": "code",
        "colab": {
          "base_uri": "https://localhost:8080/",
          "height": 136
        },
        "outputId": "4651b36d-661d-4aef-f667-757239a17aaf"
      },
      "source": [
        "reviews_avg = reviews.groupby('movie_id')['rating'].mean()\n",
        "reviews_avg.head()"
      ],
      "execution_count": 69,
      "outputs": [
        {
          "output_type": "execute_result",
          "data": {
            "text/plain": [
              "movie_id\n",
              "1    3.920930\n",
              "2    3.431818\n",
              "3    3.259615\n",
              "4    2.357143\n",
              "5    3.071429\n",
              "Name: rating, dtype: float64"
            ]
          },
          "metadata": {
            "tags": []
          },
          "execution_count": 69
        }
      ]
    },
    {
      "cell_type": "markdown",
      "metadata": {
        "id": "R1bfxq4vDHtk",
        "colab_type": "text"
      },
      "source": [
        "#### Average and film details: 9724 rows"
      ]
    },
    {
      "cell_type": "code",
      "metadata": {
        "id": "EyGp5XdSDUMc",
        "colab_type": "code",
        "colab": {
          "base_uri": "https://localhost:8080/",
          "height": 221
        },
        "outputId": "9f8bde10-6302-4795-812d-1ec3a70d6395"
      },
      "source": [
        "movies_with_avgs = movies.join(reviews_avg, on=\"movie_id\")\n",
        "print(movies_with_avgs.shape)\n",
        "movies_with_avgs.head()"
      ],
      "execution_count": 70,
      "outputs": [
        {
          "output_type": "stream",
          "text": [
            "(9742, 4)\n"
          ],
          "name": "stdout"
        },
        {
          "output_type": "execute_result",
          "data": {
            "text/html": [
              "<div>\n",
              "<style scoped>\n",
              "    .dataframe tbody tr th:only-of-type {\n",
              "        vertical-align: middle;\n",
              "    }\n",
              "\n",
              "    .dataframe tbody tr th {\n",
              "        vertical-align: top;\n",
              "    }\n",
              "\n",
              "    .dataframe thead th {\n",
              "        text-align: right;\n",
              "    }\n",
              "</style>\n",
              "<table border=\"1\" class=\"dataframe\">\n",
              "  <thead>\n",
              "    <tr style=\"text-align: right;\">\n",
              "      <th></th>\n",
              "      <th>movie_id</th>\n",
              "      <th>title</th>\n",
              "      <th>genres</th>\n",
              "      <th>rating</th>\n",
              "    </tr>\n",
              "  </thead>\n",
              "  <tbody>\n",
              "    <tr>\n",
              "      <th>0</th>\n",
              "      <td>1</td>\n",
              "      <td>Toy Story (1995)</td>\n",
              "      <td>Adventure|Animation|Children|Comedy|Fantasy</td>\n",
              "      <td>3.920930</td>\n",
              "    </tr>\n",
              "    <tr>\n",
              "      <th>1</th>\n",
              "      <td>2</td>\n",
              "      <td>Jumanji (1995)</td>\n",
              "      <td>Adventure|Children|Fantasy</td>\n",
              "      <td>3.431818</td>\n",
              "    </tr>\n",
              "    <tr>\n",
              "      <th>2</th>\n",
              "      <td>3</td>\n",
              "      <td>Grumpier Old Men (1995)</td>\n",
              "      <td>Comedy|Romance</td>\n",
              "      <td>3.259615</td>\n",
              "    </tr>\n",
              "    <tr>\n",
              "      <th>3</th>\n",
              "      <td>4</td>\n",
              "      <td>Waiting to Exhale (1995)</td>\n",
              "      <td>Comedy|Drama|Romance</td>\n",
              "      <td>2.357143</td>\n",
              "    </tr>\n",
              "    <tr>\n",
              "      <th>4</th>\n",
              "      <td>5</td>\n",
              "      <td>Father of the Bride Part II (1995)</td>\n",
              "      <td>Comedy</td>\n",
              "      <td>3.071429</td>\n",
              "    </tr>\n",
              "  </tbody>\n",
              "</table>\n",
              "</div>"
            ],
            "text/plain": [
              "   movie_id  ...    rating\n",
              "0         1  ...  3.920930\n",
              "1         2  ...  3.431818\n",
              "2         3  ...  3.259615\n",
              "3         4  ...  2.357143\n",
              "4         5  ...  3.071429\n",
              "\n",
              "[5 rows x 4 columns]"
            ]
          },
          "metadata": {
            "tags": []
          },
          "execution_count": 70
        }
      ]
    },
    {
      "cell_type": "markdown",
      "metadata": {
        "id": "rEOUC9KcGoRq",
        "colab_type": "text"
      },
      "source": [
        "#### **Day 1 - Task 1**: Find all the movies without rating"
      ]
    },
    {
      "cell_type": "code",
      "metadata": {
        "id": "biYPkGQNDHmt",
        "colab_type": "code",
        "colab": {
          "base_uri": "https://localhost:8080/",
          "height": 221
        },
        "outputId": "449b0b26-1453-4ff3-be68-2df823fd2425"
      },
      "source": [
        "movies_nan_avgs = movies_with_avgs[movies_with_avgs.isna().any(axis=1)]\n",
        "print(movies_nan_avgs.shape)\n",
        "movies_nan_avgs.head()"
      ],
      "execution_count": 71,
      "outputs": [
        {
          "output_type": "stream",
          "text": [
            "(18, 4)\n"
          ],
          "name": "stdout"
        },
        {
          "output_type": "execute_result",
          "data": {
            "text/html": [
              "<div>\n",
              "<style scoped>\n",
              "    .dataframe tbody tr th:only-of-type {\n",
              "        vertical-align: middle;\n",
              "    }\n",
              "\n",
              "    .dataframe tbody tr th {\n",
              "        vertical-align: top;\n",
              "    }\n",
              "\n",
              "    .dataframe thead th {\n",
              "        text-align: right;\n",
              "    }\n",
              "</style>\n",
              "<table border=\"1\" class=\"dataframe\">\n",
              "  <thead>\n",
              "    <tr style=\"text-align: right;\">\n",
              "      <th></th>\n",
              "      <th>movie_id</th>\n",
              "      <th>title</th>\n",
              "      <th>genres</th>\n",
              "      <th>rating</th>\n",
              "    </tr>\n",
              "  </thead>\n",
              "  <tbody>\n",
              "    <tr>\n",
              "      <th>816</th>\n",
              "      <td>1076</td>\n",
              "      <td>Innocents, The (1961)</td>\n",
              "      <td>Drama|Horror|Thriller</td>\n",
              "      <td>NaN</td>\n",
              "    </tr>\n",
              "    <tr>\n",
              "      <th>2211</th>\n",
              "      <td>2939</td>\n",
              "      <td>Niagara (1953)</td>\n",
              "      <td>Drama|Thriller</td>\n",
              "      <td>NaN</td>\n",
              "    </tr>\n",
              "    <tr>\n",
              "      <th>2499</th>\n",
              "      <td>3338</td>\n",
              "      <td>For All Mankind (1989)</td>\n",
              "      <td>Documentary</td>\n",
              "      <td>NaN</td>\n",
              "    </tr>\n",
              "    <tr>\n",
              "      <th>2587</th>\n",
              "      <td>3456</td>\n",
              "      <td>Color of Paradise, The (Rang-e khoda) (1999)</td>\n",
              "      <td>Drama</td>\n",
              "      <td>NaN</td>\n",
              "    </tr>\n",
              "    <tr>\n",
              "      <th>3118</th>\n",
              "      <td>4194</td>\n",
              "      <td>I Know Where I'm Going! (1945)</td>\n",
              "      <td>Drama|Romance|War</td>\n",
              "      <td>NaN</td>\n",
              "    </tr>\n",
              "  </tbody>\n",
              "</table>\n",
              "</div>"
            ],
            "text/plain": [
              "      movie_id  ... rating\n",
              "816       1076  ...    NaN\n",
              "2211      2939  ...    NaN\n",
              "2499      3338  ...    NaN\n",
              "2587      3456  ...    NaN\n",
              "3118      4194  ...    NaN\n",
              "\n",
              "[5 rows x 4 columns]"
            ]
          },
          "metadata": {
            "tags": []
          },
          "execution_count": 71
        }
      ]
    },
    {
      "cell_type": "markdown",
      "metadata": {
        "id": "EYc0zpaAGZW0",
        "colab_type": "text"
      },
      "source": [
        "####  **Day 1 - Task 3**: Find the review amount for each movie"
      ]
    },
    {
      "cell_type": "code",
      "metadata": {
        "id": "zUNE9Vg5GY-e",
        "colab_type": "code",
        "colab": {
          "base_uri": "https://localhost:8080/",
          "height": 204
        },
        "outputId": "2ac69b69-858c-4ef2-a42b-4164ad6a2a0e"
      },
      "source": [
        "count = reviews.groupby('movie_id')['movie_id'].count()\n",
        "movies_count_reviews = pd.DataFrame({'movie_id': count.index, 'count': count.values}).sort_values(\"movie_id\")\n",
        "movies_count_reviews.head()"
      ],
      "execution_count": 72,
      "outputs": [
        {
          "output_type": "execute_result",
          "data": {
            "text/html": [
              "<div>\n",
              "<style scoped>\n",
              "    .dataframe tbody tr th:only-of-type {\n",
              "        vertical-align: middle;\n",
              "    }\n",
              "\n",
              "    .dataframe tbody tr th {\n",
              "        vertical-align: top;\n",
              "    }\n",
              "\n",
              "    .dataframe thead th {\n",
              "        text-align: right;\n",
              "    }\n",
              "</style>\n",
              "<table border=\"1\" class=\"dataframe\">\n",
              "  <thead>\n",
              "    <tr style=\"text-align: right;\">\n",
              "      <th></th>\n",
              "      <th>movie_id</th>\n",
              "      <th>count</th>\n",
              "    </tr>\n",
              "  </thead>\n",
              "  <tbody>\n",
              "    <tr>\n",
              "      <th>0</th>\n",
              "      <td>1</td>\n",
              "      <td>215</td>\n",
              "    </tr>\n",
              "    <tr>\n",
              "      <th>1</th>\n",
              "      <td>2</td>\n",
              "      <td>110</td>\n",
              "    </tr>\n",
              "    <tr>\n",
              "      <th>2</th>\n",
              "      <td>3</td>\n",
              "      <td>52</td>\n",
              "    </tr>\n",
              "    <tr>\n",
              "      <th>3</th>\n",
              "      <td>4</td>\n",
              "      <td>7</td>\n",
              "    </tr>\n",
              "    <tr>\n",
              "      <th>4</th>\n",
              "      <td>5</td>\n",
              "      <td>49</td>\n",
              "    </tr>\n",
              "  </tbody>\n",
              "</table>\n",
              "</div>"
            ],
            "text/plain": [
              "   movie_id  count\n",
              "0         1    215\n",
              "1         2    110\n",
              "2         3     52\n",
              "3         4      7\n",
              "4         5     49"
            ]
          },
          "metadata": {
            "tags": []
          },
          "execution_count": 72
        }
      ]
    },
    {
      "cell_type": "markdown",
      "metadata": {
        "id": "_JJ8oTOfuMKQ",
        "colab_type": "text"
      },
      "source": [
        "####  **Day 1 - Task 4**: Round the averages to 2 decimal digits\n"
      ]
    },
    {
      "cell_type": "code",
      "metadata": {
        "id": "uyVlCWl9uMSX",
        "colab_type": "code",
        "colab": {
          "base_uri": "https://localhost:8080/",
          "height": 204
        },
        "outputId": "d7bf626f-a63c-4622-fef0-c480b49a4bd9"
      },
      "source": [
        "movies_with_avgs = movies_with_avgs.round({'rating': 2})\n",
        "movies_with_avgs.head()"
      ],
      "execution_count": 73,
      "outputs": [
        {
          "output_type": "execute_result",
          "data": {
            "text/html": [
              "<div>\n",
              "<style scoped>\n",
              "    .dataframe tbody tr th:only-of-type {\n",
              "        vertical-align: middle;\n",
              "    }\n",
              "\n",
              "    .dataframe tbody tr th {\n",
              "        vertical-align: top;\n",
              "    }\n",
              "\n",
              "    .dataframe thead th {\n",
              "        text-align: right;\n",
              "    }\n",
              "</style>\n",
              "<table border=\"1\" class=\"dataframe\">\n",
              "  <thead>\n",
              "    <tr style=\"text-align: right;\">\n",
              "      <th></th>\n",
              "      <th>movie_id</th>\n",
              "      <th>title</th>\n",
              "      <th>genres</th>\n",
              "      <th>rating</th>\n",
              "    </tr>\n",
              "  </thead>\n",
              "  <tbody>\n",
              "    <tr>\n",
              "      <th>0</th>\n",
              "      <td>1</td>\n",
              "      <td>Toy Story (1995)</td>\n",
              "      <td>Adventure|Animation|Children|Comedy|Fantasy</td>\n",
              "      <td>3.92</td>\n",
              "    </tr>\n",
              "    <tr>\n",
              "      <th>1</th>\n",
              "      <td>2</td>\n",
              "      <td>Jumanji (1995)</td>\n",
              "      <td>Adventure|Children|Fantasy</td>\n",
              "      <td>3.43</td>\n",
              "    </tr>\n",
              "    <tr>\n",
              "      <th>2</th>\n",
              "      <td>3</td>\n",
              "      <td>Grumpier Old Men (1995)</td>\n",
              "      <td>Comedy|Romance</td>\n",
              "      <td>3.26</td>\n",
              "    </tr>\n",
              "    <tr>\n",
              "      <th>3</th>\n",
              "      <td>4</td>\n",
              "      <td>Waiting to Exhale (1995)</td>\n",
              "      <td>Comedy|Drama|Romance</td>\n",
              "      <td>2.36</td>\n",
              "    </tr>\n",
              "    <tr>\n",
              "      <th>4</th>\n",
              "      <td>5</td>\n",
              "      <td>Father of the Bride Part II (1995)</td>\n",
              "      <td>Comedy</td>\n",
              "      <td>3.07</td>\n",
              "    </tr>\n",
              "  </tbody>\n",
              "</table>\n",
              "</div>"
            ],
            "text/plain": [
              "   movie_id  ... rating\n",
              "0         1  ...   3.92\n",
              "1         2  ...   3.43\n",
              "2         3  ...   3.26\n",
              "3         4  ...   2.36\n",
              "4         5  ...   3.07\n",
              "\n",
              "[5 rows x 4 columns]"
            ]
          },
          "metadata": {
            "tags": []
          },
          "execution_count": 73
        }
      ]
    },
    {
      "cell_type": "markdown",
      "metadata": {
        "id": "Q2LH62YFvkir",
        "colab_type": "text"
      },
      "source": [
        "#### **Day 1 - Task 5**: List all genres (unique) / **Day 1 - Task 6**: Occurrences of each gender\n"
      ]
    },
    {
      "cell_type": "code",
      "metadata": {
        "id": "PEI5U5MqvkNG",
        "colab_type": "code",
        "colab": {
          "base_uri": "https://localhost:8080/",
          "height": 136
        },
        "outputId": "46a45ba0-3ccc-4ba2-9be7-d1b0efff942d"
      },
      "source": [
        "movie_genres = movies['genres'].to_numpy()\n",
        "genres = '|'.join(movie_genres).split('|')\n",
        "genres = pd.DataFrame({'genre': genres})\n",
        "genres = genres.groupby('genre')['genre'].count()\n",
        "genres = genres.sort_values(ascending=False)\n",
        "genres.head()"
      ],
      "execution_count": 74,
      "outputs": [
        {
          "output_type": "execute_result",
          "data": {
            "text/plain": [
              "genre\n",
              "Drama       4361\n",
              "Comedy      3756\n",
              "Thriller    1894\n",
              "Action      1828\n",
              "Romance     1596\n",
              "Name: genre, dtype: int64"
            ]
          },
          "metadata": {
            "tags": []
          },
          "execution_count": 74
        }
      ]
    },
    {
      "cell_type": "markdown",
      "metadata": {
        "id": "8lfgL6ZLFFE6",
        "colab_type": "text"
      },
      "source": [
        "#### **Day 1 - Task 7**: Plot results of tasks 5, 6 / **Day 2 - Task 1**: Rotate the ticks of axis x\n"
      ]
    },
    {
      "cell_type": "code",
      "metadata": {
        "id": "2CRNUC7GdZmQ",
        "colab_type": "code",
        "colab": {
          "base_uri": "https://localhost:8080/",
          "height": 554
        },
        "outputId": "59cf23c7-bd03-4f8f-81dd-8d7168aa944e"
      },
      "source": [
        "def plot_custom(index, values):\n",
        "  fig, ax = plt.subplots()\n",
        "  x = np.arange(len(index))\n",
        "  ax.set_xticks(x)\n",
        "  ax.set_xticklabels(index, rotation=60)\n",
        "  genres_bar = ax.bar(x, values, width=0.45)\n",
        "\n",
        "  for bar in genres_bar:\n",
        "    height = bar.get_height()\n",
        "    ax.annotate('{}'.format(height),\n",
        "                xy=(bar.get_x() + bar.get_width() / 2, height),\n",
        "                xytext=(0, 5),\n",
        "                textcoords=\"offset points\",\n",
        "                ha='center', va='bottom')\n",
        "    \n",
        "  plt.gcf().set_size_inches(16, 8)\n",
        "  plt.show()\n",
        "\n",
        "\n",
        "plot_custom(genres.index, genres.values)"
      ],
      "execution_count": 75,
      "outputs": [
        {
          "output_type": "display_data",
          "data": {
            "image/png": "[encoded data removed]",
            "text/plain": [
              "<Figure size 1152x576 with 1 Axes>"
            ]
          },
          "metadata": {
            "tags": [],
            "needs_background": "light"
          }
        }
      ]
    },
    {
      "cell_type": "markdown",
      "metadata": {
        "colab_type": "text",
        "id": "Vk1QvNkXnY3H"
      },
      "source": [
        "#### **Day 2 - Task 2**: Boxplots of movies with approximate averages / **Day 2 - Task 4**: Set the ticks x to title film e rotate"
      ]
    },
    {
      "cell_type": "code",
      "metadata": {
        "id": "Pu9SEmyYn0tS",
        "colab_type": "code",
        "colab": {
          "base_uri": "https://localhost:8080/",
          "height": 428
        },
        "outputId": "0aec8f19-8ee3-4603-cb08-766c77c9dc5a"
      },
      "source": [
        "movies_with_count = movies_with_avgs.dropna().merge(movies_count_reviews, on='movie_id')\n",
        "movies_with_count = movies_with_count.sort_values('count', ascending=False)\n",
        "\n",
        "movie_ids = [7153, 1210, 2028, 68157, 5618]\n",
        "review_approx_avgs = reviews.query(f'movie_id in {movie_ids}').merge(movies, on='movie_id')\n",
        "\n",
        "sns.boxplot(data = review_approx_avgs, x =\"title\", y=\"rating\")\n",
        "plt.gcf().set_size_inches(12, 4)\n",
        "plt.xticks(rotation=30)"
      ],
      "execution_count": 76,
      "outputs": [
        {
          "output_type": "execute_result",
          "data": {
            "text/plain": [
              "(array([0, 1, 2, 3, 4]), <a list of 5 Text major ticklabel objects>)"
            ]
          },
          "metadata": {
            "tags": []
          },
          "execution_count": 76
        },
        {
          "output_type": "display_data",
          "data": {
            "image/png": "[encoded data removed]",
            "text/plain": [
              "<Figure size 864x288 with 1 Axes>"
            ]
          },
          "metadata": {
            "tags": [],
            "needs_background": "light"
          }
        }
      ]
    },
    {
      "cell_type": "markdown",
      "metadata": {
        "colab_type": "text",
        "id": "mso2tmvl5wbU"
      },
      "source": [
        "#### **Day 2 - Task 3**: Plot the boxplot of the 10 most voted movies "
      ]
    },
    {
      "cell_type": "code",
      "metadata": {
        "id": "aM1XKxcm5v7R",
        "colab_type": "code",
        "colab": {
          "base_uri": "https://localhost:8080/",
          "height": 419
        },
        "outputId": "42efbe63-82bc-4017-c842-a7d02f47521f"
      },
      "source": [
        "movie_ids_most_voted = list(movies_with_count[0:10]['movie_id'])\n",
        "reviews_of_most_voted = reviews.query(f'movie_id in {movie_ids_most_voted}').merge(movies, on='movie_id')\n",
        "sns.boxplot(data = reviews_of_most_voted, x =\"title\", y=\"rating\")\n",
        "plt.gcf().set_size_inches(20, 4)\n",
        "plt.xticks(rotation=30)"
      ],
      "execution_count": 77,
      "outputs": [
        {
          "output_type": "execute_result",
          "data": {
            "text/plain": [
              "(array([0, 1, 2, 3, 4, 5, 6, 7, 8, 9]),\n",
              " <a list of 10 Text major ticklabel objects>)"
            ]
          },
          "metadata": {
            "tags": []
          },
          "execution_count": 77
        },
        {
          "output_type": "display_data",
          "data": {
            "image/png": "[encoded data removed]",
            "text/plain": [
              "<Figure size 1440x288 with 1 Axes>"
            ]
          },
          "metadata": {
            "tags": [],
            "needs_background": "light"
          }
        }
      ]
    },
    {
      "cell_type": "markdown",
      "metadata": {
        "id": "Tq0Pu3MU_S4z",
        "colab_type": "text"
      },
      "source": [
        "#### **Day 2 - Task 5**: Calculate mode, average and median of some films (Notes close to 0.5, 3 and 5).\n"
      ]
    },
    {
      "cell_type": "code",
      "metadata": {
        "id": "0JKPhBE-iWQo",
        "colab_type": "code",
        "colab": {
          "base_uri": "https://localhost:8080/",
          "height": 204
        },
        "outputId": "16041838-395a-4179-fc17-8450be222233"
      },
      "source": [
        "series_group_by = reviews.groupby('movie_id')['rating']\n",
        "\n",
        "mode = series_group_by.max().rename('mode')\n",
        "mean = series_group_by.mean().rename('average')\n",
        "median = series_group_by.median().rename('median')\n",
        "\n",
        "result_task = movies.join(mode, on='movie_id') \n",
        "result_task = result_task.join(mean, on='movie_id').round({'average': 2})\n",
        "result_task = result_task.join(median, on='movie_id')\n",
        "result_task[[\"movie_id\", \"title\", \"mode\", \"average\", \"median\"]].head()"
      ],
      "execution_count": 78,
      "outputs": [
        {
          "output_type": "execute_result",
          "data": {
            "text/html": [
              "<div>\n",
              "<style scoped>\n",
              "    .dataframe tbody tr th:only-of-type {\n",
              "        vertical-align: middle;\n",
              "    }\n",
              "\n",
              "    .dataframe tbody tr th {\n",
              "        vertical-align: top;\n",
              "    }\n",
              "\n",
              "    .dataframe thead th {\n",
              "        text-align: right;\n",
              "    }\n",
              "</style>\n",
              "<table border=\"1\" class=\"dataframe\">\n",
              "  <thead>\n",
              "    <tr style=\"text-align: right;\">\n",
              "      <th></th>\n",
              "      <th>movie_id</th>\n",
              "      <th>title</th>\n",
              "      <th>mode</th>\n",
              "      <th>average</th>\n",
              "      <th>median</th>\n",
              "    </tr>\n",
              "  </thead>\n",
              "  <tbody>\n",
              "    <tr>\n",
              "      <th>0</th>\n",
              "      <td>1</td>\n",
              "      <td>Toy Story (1995)</td>\n",
              "      <td>5.0</td>\n",
              "      <td>3.92</td>\n",
              "      <td>4.0</td>\n",
              "    </tr>\n",
              "    <tr>\n",
              "      <th>1</th>\n",
              "      <td>2</td>\n",
              "      <td>Jumanji (1995)</td>\n",
              "      <td>5.0</td>\n",
              "      <td>3.43</td>\n",
              "      <td>3.5</td>\n",
              "    </tr>\n",
              "    <tr>\n",
              "      <th>2</th>\n",
              "      <td>3</td>\n",
              "      <td>Grumpier Old Men (1995)</td>\n",
              "      <td>5.0</td>\n",
              "      <td>3.26</td>\n",
              "      <td>3.0</td>\n",
              "    </tr>\n",
              "    <tr>\n",
              "      <th>3</th>\n",
              "      <td>4</td>\n",
              "      <td>Waiting to Exhale (1995)</td>\n",
              "      <td>3.0</td>\n",
              "      <td>2.36</td>\n",
              "      <td>3.0</td>\n",
              "    </tr>\n",
              "    <tr>\n",
              "      <th>4</th>\n",
              "      <td>5</td>\n",
              "      <td>Father of the Bride Part II (1995)</td>\n",
              "      <td>5.0</td>\n",
              "      <td>3.07</td>\n",
              "      <td>3.0</td>\n",
              "    </tr>\n",
              "  </tbody>\n",
              "</table>\n",
              "</div>"
            ],
            "text/plain": [
              "   movie_id                               title  mode  average  median\n",
              "0         1                    Toy Story (1995)   5.0     3.92     4.0\n",
              "1         2                      Jumanji (1995)   5.0     3.43     3.5\n",
              "2         3             Grumpier Old Men (1995)   5.0     3.26     3.0\n",
              "3         4            Waiting to Exhale (1995)   3.0     2.36     3.0\n",
              "4         5  Father of the Bride Part II (1995)   5.0     3.07     3.0"
            ]
          },
          "metadata": {
            "tags": []
          },
          "execution_count": 78
        }
      ]
    },
    {
      "cell_type": "markdown",
      "metadata": {
        "id": "q-TVFxR3f1iz",
        "colab_type": "text"
      },
      "source": [
        "#### **Day 2 - Task 6**: Plot the hist and boxplot side-by-side\n"
      ]
    },
    {
      "cell_type": "code",
      "metadata": {
        "id": "ld6n20zUf0ad",
        "colab_type": "code",
        "colab": {
          "base_uri": "https://localhost:8080/",
          "height": 282
        },
        "outputId": "984d9a4d-e8a4-471e-9dae-ca6f51ac7b8a"
      },
      "source": [
        "plt.subplot(1, 2, 1)\n",
        "hist_reviews = reviews.query(f\"movie_id=={1}\")[\"rating\"]\n",
        "hist_reviews.plot(kind='hist')\n",
        "plt.subplot(1, 2, 2)\n",
        "hist_reviews.plot.box()"
      ],
      "execution_count": 79,
      "outputs": [
        {
          "output_type": "execute_result",
          "data": {
            "text/plain": [
              "<matplotlib.axes._subplots.AxesSubplot at 0x7f3daa9f9a90>"
            ]
          },
          "metadata": {
            "tags": []
          },
          "execution_count": 79
        },
        {
          "output_type": "display_data",
          "data": {
            "image/png": "[encoded data removed]",
            "text/plain": [
              "<Figure size 432x288 with 2 Axes>"
            ]
          },
          "metadata": {
            "tags": [],
            "needs_background": "light"
          }
        }
      ]
    },
    {
      "cell_type": "markdown",
      "metadata": {
        "id": "T-8Q8J17kGEL",
        "colab_type": "text"
      },
      "source": [
        "#### **Day 2 - Task 7**: Plot a chart with annual averages per year (all reviews)\n"
      ]
    },
    {
      "cell_type": "code",
      "metadata": {
        "id": "_dsh685kmVDA",
        "colab_type": "code",
        "colab": {
          "base_uri": "https://localhost:8080/",
          "height": 317
        },
        "outputId": "1cf5ac42-9eac-4881-ef17-70dddf0f564e"
      },
      "source": [
        "def title_to_year(title):\n",
        "  capture_regex = '(?<=[(])\\d{4}(?=[)]$)'\n",
        "  year = re.search(capture_regex, str(title))\n",
        "  return int(year.group()) if year else 'not found yr'\n",
        "\n",
        "\n",
        "def plot_custom(index, values):\n",
        "  fig, ax = plt.subplots()\n",
        "  x = np.arange(len(index))\n",
        "  ax.set_xticks(x)\n",
        "  ax.set_xticklabels(index, rotation=90)\n",
        "  genres_bar = ax.bar(x, values, width=0.7)\n",
        "  plt.gcf().set_size_inches(20, 4)\n",
        "  plt.show()\n",
        "\n",
        "\n",
        "movies_with_avgs[['title','rating']]\n",
        "movies_with_avgs['title'] = movies_with_avgs['title'].map(lambda x: title_to_year(x))\n",
        "movies_with_avgs = movies_with_avgs.groupby('title')['rating'].mean()\n",
        "plot_custom(movies_with_avgs.index, movies_with_avgs.values)"
      ],
      "execution_count": 80,
      "outputs": [
        {
          "output_type": "display_data",
          "data": {
            "image/png": "[encoded data removed]",
            "text/plain": [
              "<Figure size 1440x288 with 1 Axes>"
            ]
          },
          "metadata": {
            "tags": [],
            "needs_background": "light"
          }
        }
      ]
    }
  ]
}