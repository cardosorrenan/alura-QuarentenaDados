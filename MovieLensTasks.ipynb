{
  "nbformat": 4,
  "nbformat_minor": 0,
  "metadata": {
    "colab": {
      "name": "Day01",
      "provenance": [],
      "collapsed_sections": []
    },
    "kernelspec": {
      "name": "python3",
      "display_name": "Python 3"
    }
  },
  "cells": [
    {
      "cell_type": "code",
      "metadata": {
        "id": "VcYlbqDn4x84",
        "colab_type": "code",
        "colab": {}
      },
      "source": [
        "import pandas as pd\n",
        "import numpy as np\n",
        "import matplotlib.pyplot as plt\n",
        "import seaborn as sns"
      ],
      "execution_count": 0,
      "outputs": []
    },
    {
      "cell_type": "markdown",
      "metadata": {
        "id": "Alc-LJBYCB4N",
        "colab_type": "text"
      },
      "source": [
        "Movies fetched from api: 9742 rows"
      ]
    },
    {
      "cell_type": "code",
      "metadata": {
        "id": "UWD1xFJOCnO2",
        "colab_type": "code",
        "colab": {}
      },
      "source": [
        "movies = pd.read_csv(\"https://raw.githubusercontent.com/alura-cursos/introducao-a-data-science/master/aula0/ml-latest-small/movies.csv\")\n",
        "movies.columns = [\"movie_id\", \"title\", \"genres\"]"
      ],
      "execution_count": 0,
      "outputs": []
    },
    {
      "cell_type": "markdown",
      "metadata": {
        "id": "397Kv6J1CrUK",
        "colab_type": "text"
      },
      "source": [
        "Reviews fetched from api: 100836 rows"
      ]
    },
    {
      "cell_type": "code",
      "metadata": {
        "id": "5R4r_clhB74y",
        "colab_type": "code",
        "colab": {}
      },
      "source": [
        "reviews = pd.read_csv(\"https://github.com/alura-cursos/introducao-a-data-science/blob/master/aula0/ml-latest-small/ratings.csv?raw=true\")\n",
        "reviews.columns = [\"user_id\", \"movie_id\", \"rating\", \"timestamp\"]"
      ],
      "execution_count": 0,
      "outputs": []
    },
    {
      "cell_type": "markdown",
      "metadata": {
        "id": "FooSacyKHWub",
        "colab_type": "text"
      },
      "source": [
        "Average movie reviews: 9724 rows"
      ]
    },
    {
      "cell_type": "code",
      "metadata": {
        "id": "IF0psJx7B5ml",
        "colab_type": "code",
        "outputId": "a67acb9b-331d-42e1-f09c-374eb222a56c",
        "colab": {
          "base_uri": "https://localhost:8080/",
          "height": 136
        }
      },
      "source": [
        "reviews_avg = reviews.groupby('movie_id')['rating'].mean()\n",
        "reviews_avg.head()"
      ],
      "execution_count": 0,
      "outputs": [
        {
          "output_type": "execute_result",
          "data": {
            "text/plain": [
              "movie_id\n",
              "1    3.920930\n",
              "2    3.431818\n",
              "3    3.259615\n",
              "4    2.357143\n",
              "5    3.071429\n",
              "Name: rating, dtype: float64"
            ]
          },
          "metadata": {
            "tags": []
          },
          "execution_count": 143
        }
      ]
    },
    {
      "cell_type": "markdown",
      "metadata": {
        "id": "R1bfxq4vDHtk",
        "colab_type": "text"
      },
      "source": [
        "Average and film details: 9724 rows"
      ]
    },
    {
      "cell_type": "code",
      "metadata": {
        "id": "EyGp5XdSDUMc",
        "colab_type": "code",
        "outputId": "9a80a12f-4a17-4651-c0e4-22615960e213",
        "colab": {
          "base_uri": "https://localhost:8080/",
          "height": 221
        }
      },
      "source": [
        "movies_with_avgs = movies.join(reviews_avg, on=\"movie_id\")\n",
        "print(movies_with_avgs.shape)\n",
        "movies_with_avgs.head()"
      ],
      "execution_count": 0,
      "outputs": [
        {
          "output_type": "stream",
          "text": [
            "(9742, 4)\n"
          ],
          "name": "stdout"
        },
        {
          "output_type": "execute_result",
          "data": {
            "text/html": [
              "<div>\n",
              "<style scoped>\n",
              "    .dataframe tbody tr th:only-of-type {\n",
              "        vertical-align: middle;\n",
              "    }\n",
              "\n",
              "    .dataframe tbody tr th {\n",
              "        vertical-align: top;\n",
              "    }\n",
              "\n",
              "    .dataframe thead th {\n",
              "        text-align: right;\n",
              "    }\n",
              "</style>\n",
              "<table border=\"1\" class=\"dataframe\">\n",
              "  <thead>\n",
              "    <tr style=\"text-align: right;\">\n",
              "      <th></th>\n",
              "      <th>movie_id</th>\n",
              "      <th>title</th>\n",
              "      <th>genres</th>\n",
              "      <th>rating</th>\n",
              "    </tr>\n",
              "  </thead>\n",
              "  <tbody>\n",
              "    <tr>\n",
              "      <th>0</th>\n",
              "      <td>1</td>\n",
              "      <td>Toy Story (1995)</td>\n",
              "      <td>Adventure|Animation|Children|Comedy|Fantasy</td>\n",
              "      <td>3.920930</td>\n",
              "    </tr>\n",
              "    <tr>\n",
              "      <th>1</th>\n",
              "      <td>2</td>\n",
              "      <td>Jumanji (1995)</td>\n",
              "      <td>Adventure|Children|Fantasy</td>\n",
              "      <td>3.431818</td>\n",
              "    </tr>\n",
              "    <tr>\n",
              "      <th>2</th>\n",
              "      <td>3</td>\n",
              "      <td>Grumpier Old Men (1995)</td>\n",
              "      <td>Comedy|Romance</td>\n",
              "      <td>3.259615</td>\n",
              "    </tr>\n",
              "    <tr>\n",
              "      <th>3</th>\n",
              "      <td>4</td>\n",
              "      <td>Waiting to Exhale (1995)</td>\n",
              "      <td>Comedy|Drama|Romance</td>\n",
              "      <td>2.357143</td>\n",
              "    </tr>\n",
              "    <tr>\n",
              "      <th>4</th>\n",
              "      <td>5</td>\n",
              "      <td>Father of the Bride Part II (1995)</td>\n",
              "      <td>Comedy</td>\n",
              "      <td>3.071429</td>\n",
              "    </tr>\n",
              "  </tbody>\n",
              "</table>\n",
              "</div>"
            ],
            "text/plain": [
              "   movie_id  ...    rating\n",
              "0         1  ...  3.920930\n",
              "1         2  ...  3.431818\n",
              "2         3  ...  3.259615\n",
              "3         4  ...  2.357143\n",
              "4         5  ...  3.071429\n",
              "\n",
              "[5 rows x 4 columns]"
            ]
          },
          "metadata": {
            "tags": []
          },
          "execution_count": 144
        }
      ]
    },
    {
      "cell_type": "markdown",
      "metadata": {
        "id": "rEOUC9KcGoRq",
        "colab_type": "text"
      },
      "source": [
        "## **Day 1 - Task 1**: Find all the movies without rating"
      ]
    },
    {
      "cell_type": "code",
      "metadata": {
        "id": "biYPkGQNDHmt",
        "colab_type": "code",
        "outputId": "ff6df9a1-f826-4cda-a2ac-9918812507e4",
        "colab": {
          "base_uri": "https://localhost:8080/",
          "height": 221
        }
      },
      "source": [
        "movies_nan_avgs = movies_with_avgs[movies_with_avgs.isna().any(axis=1)]\n",
        "print(movies_nan_avgs.shape)\n",
        "movies_nan_avgs.head()"
      ],
      "execution_count": 0,
      "outputs": [
        {
          "output_type": "stream",
          "text": [
            "(18, 4)\n"
          ],
          "name": "stdout"
        },
        {
          "output_type": "execute_result",
          "data": {
            "text/html": [
              "<div>\n",
              "<style scoped>\n",
              "    .dataframe tbody tr th:only-of-type {\n",
              "        vertical-align: middle;\n",
              "    }\n",
              "\n",
              "    .dataframe tbody tr th {\n",
              "        vertical-align: top;\n",
              "    }\n",
              "\n",
              "    .dataframe thead th {\n",
              "        text-align: right;\n",
              "    }\n",
              "</style>\n",
              "<table border=\"1\" class=\"dataframe\">\n",
              "  <thead>\n",
              "    <tr style=\"text-align: right;\">\n",
              "      <th></th>\n",
              "      <th>movie_id</th>\n",
              "      <th>title</th>\n",
              "      <th>genres</th>\n",
              "      <th>rating</th>\n",
              "    </tr>\n",
              "  </thead>\n",
              "  <tbody>\n",
              "    <tr>\n",
              "      <th>816</th>\n",
              "      <td>1076</td>\n",
              "      <td>Innocents, The (1961)</td>\n",
              "      <td>Drama|Horror|Thriller</td>\n",
              "      <td>NaN</td>\n",
              "    </tr>\n",
              "    <tr>\n",
              "      <th>2211</th>\n",
              "      <td>2939</td>\n",
              "      <td>Niagara (1953)</td>\n",
              "      <td>Drama|Thriller</td>\n",
              "      <td>NaN</td>\n",
              "    </tr>\n",
              "    <tr>\n",
              "      <th>2499</th>\n",
              "      <td>3338</td>\n",
              "      <td>For All Mankind (1989)</td>\n",
              "      <td>Documentary</td>\n",
              "      <td>NaN</td>\n",
              "    </tr>\n",
              "    <tr>\n",
              "      <th>2587</th>\n",
              "      <td>3456</td>\n",
              "      <td>Color of Paradise, The (Rang-e khoda) (1999)</td>\n",
              "      <td>Drama</td>\n",
              "      <td>NaN</td>\n",
              "    </tr>\n",
              "    <tr>\n",
              "      <th>3118</th>\n",
              "      <td>4194</td>\n",
              "      <td>I Know Where I'm Going! (1945)</td>\n",
              "      <td>Drama|Romance|War</td>\n",
              "      <td>NaN</td>\n",
              "    </tr>\n",
              "  </tbody>\n",
              "</table>\n",
              "</div>"
            ],
            "text/plain": [
              "      movie_id  ... rating\n",
              "816       1076  ...    NaN\n",
              "2211      2939  ...    NaN\n",
              "2499      3338  ...    NaN\n",
              "2587      3456  ...    NaN\n",
              "3118      4194  ...    NaN\n",
              "\n",
              "[5 rows x 4 columns]"
            ]
          },
          "metadata": {
            "tags": []
          },
          "execution_count": 145
        }
      ]
    },
    {
      "cell_type": "markdown",
      "metadata": {
        "id": "EYc0zpaAGZW0",
        "colab_type": "text"
      },
      "source": [
        "## **Day 1 - Task 3**: Find the review amount for each movie"
      ]
    },
    {
      "cell_type": "code",
      "metadata": {
        "id": "zUNE9Vg5GY-e",
        "colab_type": "code",
        "outputId": "68f5e2ef-1d04-4cee-fea1-346b87e570df",
        "colab": {
          "base_uri": "https://localhost:8080/",
          "height": 204
        }
      },
      "source": [
        "count = reviews.groupby('movie_id')['movie_id'].count()\n",
        "movies_count_reviews = pd.DataFrame({'movie_id': count.index, 'count': count.values}).sort_values(\"movie_id\")\n",
        "movies_count_reviews.head()"
      ],
      "execution_count": 0,
      "outputs": [
        {
          "output_type": "execute_result",
          "data": {
            "text/html": [
              "<div>\n",
              "<style scoped>\n",
              "    .dataframe tbody tr th:only-of-type {\n",
              "        vertical-align: middle;\n",
              "    }\n",
              "\n",
              "    .dataframe tbody tr th {\n",
              "        vertical-align: top;\n",
              "    }\n",
              "\n",
              "    .dataframe thead th {\n",
              "        text-align: right;\n",
              "    }\n",
              "</style>\n",
              "<table border=\"1\" class=\"dataframe\">\n",
              "  <thead>\n",
              "    <tr style=\"text-align: right;\">\n",
              "      <th></th>\n",
              "      <th>movie_id</th>\n",
              "      <th>count</th>\n",
              "    </tr>\n",
              "  </thead>\n",
              "  <tbody>\n",
              "    <tr>\n",
              "      <th>0</th>\n",
              "      <td>1</td>\n",
              "      <td>215</td>\n",
              "    </tr>\n",
              "    <tr>\n",
              "      <th>1</th>\n",
              "      <td>2</td>\n",
              "      <td>110</td>\n",
              "    </tr>\n",
              "    <tr>\n",
              "      <th>2</th>\n",
              "      <td>3</td>\n",
              "      <td>52</td>\n",
              "    </tr>\n",
              "    <tr>\n",
              "      <th>3</th>\n",
              "      <td>4</td>\n",
              "      <td>7</td>\n",
              "    </tr>\n",
              "    <tr>\n",
              "      <th>4</th>\n",
              "      <td>5</td>\n",
              "      <td>49</td>\n",
              "    </tr>\n",
              "  </tbody>\n",
              "</table>\n",
              "</div>"
            ],
            "text/plain": [
              "   movie_id  count\n",
              "0         1    215\n",
              "1         2    110\n",
              "2         3     52\n",
              "3         4      7\n",
              "4         5     49"
            ]
          },
          "metadata": {
            "tags": []
          },
          "execution_count": 146
        }
      ]
    },
    {
      "cell_type": "markdown",
      "metadata": {
        "id": "_JJ8oTOfuMKQ",
        "colab_type": "text"
      },
      "source": [
        "## **Day 1 - Task 4**: Round the averages to 2 decimal digits\n"
      ]
    },
    {
      "cell_type": "code",
      "metadata": {
        "id": "uyVlCWl9uMSX",
        "colab_type": "code",
        "outputId": "551a0597-c860-4df4-dd75-a9d2e5dd1486",
        "colab": {
          "base_uri": "https://localhost:8080/",
          "height": 204
        }
      },
      "source": [
        "movies_with_avgs = movies_with_avgs.round({'rating': 2})\n",
        "movies_with_avgs.head()"
      ],
      "execution_count": 0,
      "outputs": [
        {
          "output_type": "execute_result",
          "data": {
            "text/html": [
              "<div>\n",
              "<style scoped>\n",
              "    .dataframe tbody tr th:only-of-type {\n",
              "        vertical-align: middle;\n",
              "    }\n",
              "\n",
              "    .dataframe tbody tr th {\n",
              "        vertical-align: top;\n",
              "    }\n",
              "\n",
              "    .dataframe thead th {\n",
              "        text-align: right;\n",
              "    }\n",
              "</style>\n",
              "<table border=\"1\" class=\"dataframe\">\n",
              "  <thead>\n",
              "    <tr style=\"text-align: right;\">\n",
              "      <th></th>\n",
              "      <th>movie_id</th>\n",
              "      <th>title</th>\n",
              "      <th>genres</th>\n",
              "      <th>rating</th>\n",
              "    </tr>\n",
              "  </thead>\n",
              "  <tbody>\n",
              "    <tr>\n",
              "      <th>0</th>\n",
              "      <td>1</td>\n",
              "      <td>Toy Story (1995)</td>\n",
              "      <td>Adventure|Animation|Children|Comedy|Fantasy</td>\n",
              "      <td>3.92</td>\n",
              "    </tr>\n",
              "    <tr>\n",
              "      <th>1</th>\n",
              "      <td>2</td>\n",
              "      <td>Jumanji (1995)</td>\n",
              "      <td>Adventure|Children|Fantasy</td>\n",
              "      <td>3.43</td>\n",
              "    </tr>\n",
              "    <tr>\n",
              "      <th>2</th>\n",
              "      <td>3</td>\n",
              "      <td>Grumpier Old Men (1995)</td>\n",
              "      <td>Comedy|Romance</td>\n",
              "      <td>3.26</td>\n",
              "    </tr>\n",
              "    <tr>\n",
              "      <th>3</th>\n",
              "      <td>4</td>\n",
              "      <td>Waiting to Exhale (1995)</td>\n",
              "      <td>Comedy|Drama|Romance</td>\n",
              "      <td>2.36</td>\n",
              "    </tr>\n",
              "    <tr>\n",
              "      <th>4</th>\n",
              "      <td>5</td>\n",
              "      <td>Father of the Bride Part II (1995)</td>\n",
              "      <td>Comedy</td>\n",
              "      <td>3.07</td>\n",
              "    </tr>\n",
              "  </tbody>\n",
              "</table>\n",
              "</div>"
            ],
            "text/plain": [
              "   movie_id  ... rating\n",
              "0         1  ...   3.92\n",
              "1         2  ...   3.43\n",
              "2         3  ...   3.26\n",
              "3         4  ...   2.36\n",
              "4         5  ...   3.07\n",
              "\n",
              "[5 rows x 4 columns]"
            ]
          },
          "metadata": {
            "tags": []
          },
          "execution_count": 147
        }
      ]
    },
    {
      "cell_type": "markdown",
      "metadata": {
        "id": "Q2LH62YFvkir",
        "colab_type": "text"
      },
      "source": [
        "## **Day 1 - Task 5,6**: List all genres (unique) and occurrences of each gender\n"
      ]
    },
    {
      "cell_type": "code",
      "metadata": {
        "id": "PEI5U5MqvkNG",
        "colab_type": "code",
        "outputId": "f7361304-ddf2-4505-f964-4c2c67cf108b",
        "colab": {
          "base_uri": "https://localhost:8080/",
          "height": 204
        }
      },
      "source": [
        "movie_genres = movies['genres'].to_numpy()\n",
        "genres = '|'.join(movie_genres).split('|')\n",
        "genres_unique, genres_amount = np.unique(genres, return_counts=True)\n",
        "genres = pd.DataFrame({'genre':genres_unique, 'amount':genres_amount}).sort_values(\"amount\", ascending=False)\n",
        "genres_unique = list(genres.genre)\n",
        "genres_amount = list(genres.amount)\n",
        "genres_pd.head()\n"
      ],
      "execution_count": 0,
      "outputs": [
        {
          "output_type": "execute_result",
          "data": {
            "text/html": [
              "<div>\n",
              "<style scoped>\n",
              "    .dataframe tbody tr th:only-of-type {\n",
              "        vertical-align: middle;\n",
              "    }\n",
              "\n",
              "    .dataframe tbody tr th {\n",
              "        vertical-align: top;\n",
              "    }\n",
              "\n",
              "    .dataframe thead th {\n",
              "        text-align: right;\n",
              "    }\n",
              "</style>\n",
              "<table border=\"1\" class=\"dataframe\">\n",
              "  <thead>\n",
              "    <tr style=\"text-align: right;\">\n",
              "      <th></th>\n",
              "      <th>genre</th>\n",
              "      <th>amount</th>\n",
              "    </tr>\n",
              "  </thead>\n",
              "  <tbody>\n",
              "    <tr>\n",
              "      <th>8</th>\n",
              "      <td>Drama</td>\n",
              "      <td>4361</td>\n",
              "    </tr>\n",
              "    <tr>\n",
              "      <th>5</th>\n",
              "      <td>Comedy</td>\n",
              "      <td>3756</td>\n",
              "    </tr>\n",
              "    <tr>\n",
              "      <th>17</th>\n",
              "      <td>Thriller</td>\n",
              "      <td>1894</td>\n",
              "    </tr>\n",
              "    <tr>\n",
              "      <th>1</th>\n",
              "      <td>Action</td>\n",
              "      <td>1828</td>\n",
              "    </tr>\n",
              "    <tr>\n",
              "      <th>15</th>\n",
              "      <td>Romance</td>\n",
              "      <td>1596</td>\n",
              "    </tr>\n",
              "  </tbody>\n",
              "</table>\n",
              "</div>"
            ],
            "text/plain": [
              "       genre  amount\n",
              "8      Drama    4361\n",
              "5     Comedy    3756\n",
              "17  Thriller    1894\n",
              "1     Action    1828\n",
              "15   Romance    1596"
            ]
          },
          "metadata": {
            "tags": []
          },
          "execution_count": 148
        }
      ]
    },
    {
      "cell_type": "markdown",
      "metadata": {
        "id": "8lfgL6ZLFFE6",
        "colab_type": "text"
      },
      "source": [
        "## **Day 1 - Task 7**: Plot results of tasks 5, 6\n",
        "## **Day 2 - Task 1**: Rotate the ticks of axis x"
      ]
    },
    {
      "cell_type": "code",
      "metadata": {
        "id": "2CRNUC7GdZmQ",
        "colab_type": "code",
        "colab": {}
      },
      "source": [
        "def autolabel(bars):\n",
        "  for bar in bars:\n",
        "    height = bar.get_height()\n",
        "    ax.annotate('{}'.format(height),\n",
        "                xy=(bar.get_x() + bar.get_width() / 2, height),\n",
        "                xytext=(0, 5),\n",
        "                textcoords=\"offset points\",\n",
        "                ha='center', va='bottom')\n",
        "        "
      ],
      "execution_count": 0,
      "outputs": []
    },
    {
      "cell_type": "code",
      "metadata": {
        "id": "bGySDxLAFFQ6",
        "colab_type": "code",
        "outputId": "cb48886e-cd04-4e1e-8eb1-41c0da889e8a",
        "colab": {
          "base_uri": "https://localhost:8080/",
          "height": 554
        }
      },
      "source": [
        "fig, ax = plt.subplots()\n",
        "x = np.arange(len(genres_unique))\n",
        "ax.set_xticks(x)\n",
        "ax.set_xticklabels(genres_unique, rotation=60)\n",
        "genres_bar = ax.bar(x, genres_amount, width=0.45)\n",
        "autolabel(genres_bar)\n",
        "plt.gcf().set_size_inches(16, 8)\n",
        "plt.show()\n"
      ],
      "execution_count": 0,
      "outputs": [
        {
          "output_type": "display_data",
          "data": {
            "image/png": "[encoded data removed]",
            "text/plain": [
              "<Figure size 1152x576 with 1 Axes>"
            ]
          },
          "metadata": {
            "tags": [],
            "needs_background": "light"
          }
        }
      ]
    },
    {
      "cell_type": "markdown",
      "metadata": {
        "colab_type": "text",
        "id": "Vk1QvNkXnY3H"
      },
      "source": [
        "## **Day 2 - Task 2**: Plot many movies with approximate averages\n",
        "## **Day 2 - Task 4**: Set the ticks x to title film e rotate"
      ]
    },
    {
      "cell_type": "code",
      "metadata": {
        "id": "Pu9SEmyYn0tS",
        "colab_type": "code",
        "outputId": "7d15a84b-35fe-446a-d3bf-2ff0d04e6ed5",
        "colab": {
          "base_uri": "https://localhost:8080/",
          "height": 522
        }
      },
      "source": [
        "movies_with_count = movies_with_avgs.dropna().merge(movies_count_reviews, on='movie_id')\n",
        "movies_with_count = movies_with_count.sort_values('count', ascending=False)\n",
        "\n",
        "movie_ids = [7153, 1210, 2028, 68157, 5618]\n",
        "review_approx_avgs = reviews.query(f'movie_id in {movie_ids}').merge(movies, on='movie_id')\n",
        "\n",
        "sns.boxplot(data = review_approx_avgs, x =\"title\", y=\"rating\")\n",
        "plt.gcf().set_size_inches(12, 4)\n",
        "plt.xticks(rotation=60)"
      ],
      "execution_count": 243,
      "outputs": [
        {
          "output_type": "execute_result",
          "data": {
            "text/plain": [
              "(array([0, 1, 2, 3, 4]), <a list of 5 Text major ticklabel objects>)"
            ]
          },
          "metadata": {
            "tags": []
          },
          "execution_count": 243
        },
        {
          "output_type": "display_data",
          "data": {
            "image/png": "[encoded data removed]",
            "text/plain": [
              "<Figure size 864x288 with 1 Axes>"
            ]
          },
          "metadata": {
            "tags": [],
            "needs_background": "light"
          }
        }
      ]
    },
    {
      "cell_type": "markdown",
      "metadata": {
        "id": "qaJ-OMoP5vxh",
        "colab_type": "text"
      },
      "source": [
        ""
      ]
    },
    {
      "cell_type": "markdown",
      "metadata": {
        "colab_type": "text",
        "id": "mso2tmvl5wbU"
      },
      "source": [
        "## **Day 2 - Task 2**: Plot many movies with approximate averages"
      ]
    },
    {
      "cell_type": "code",
      "metadata": {
        "id": "aM1XKxcm5v7R",
        "colab_type": "code",
        "colab": {
          "base_uri": "https://localhost:8080/",
          "height": 493
        },
        "outputId": "62e137d5-fda1-4a77-b00c-83c73f761f56"
      },
      "source": [
        "movie_ids_most_voted = list(movies_with_count[0:10]['movie_id'])\n",
        "reviews_of_most_voted = reviews.query(f'movie_id in {movie_ids_most_voted}').merge(movies, on='movie_id')\n",
        "sns.boxplot(data = reviews_of_most_voted, x =\"title\", y=\"rating\")\n",
        "plt.gcf().set_size_inches(20, 4)\n",
        "plt.xticks(rotation=60)"
      ],
      "execution_count": 248,
      "outputs": [
        {
          "output_type": "execute_result",
          "data": {
            "text/plain": [
              "(array([0, 1, 2, 3, 4, 5, 6, 7, 8, 9]),\n",
              " <a list of 10 Text major ticklabel objects>)"
            ]
          },
          "metadata": {
            "tags": []
          },
          "execution_count": 248
        },
        {
          "output_type": "display_data",
          "data": {
            "image/png": "[encoded data removed]",
            "text/plain": [
              "<Figure size 1440x288 with 1 Axes>"
            ]
          },
          "metadata": {
            "tags": [],
            "needs_background": "light"
          }
        }
      ]
    }
  ]
}